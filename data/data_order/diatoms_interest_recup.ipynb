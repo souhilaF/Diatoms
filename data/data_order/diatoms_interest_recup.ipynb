{
 "cells": [
  {
   "cell_type": "code",
   "execution_count": 4,
   "metadata": {},
   "outputs": [],
   "source": [
    "import cv2  \n",
    "import numpy as np \n",
    "import random\n",
    "import imutils\n",
    "from os import listdir\n",
    "import os \n",
    "import shutil\n",
    "import pandas as pd\n",
    "import xlrd\n",
    "import os"
   ]
  },
  {
   "cell_type": "code",
   "execution_count": 7,
   "metadata": {},
   "outputs": [],
   "source": [
    "#recupère les diatomees du Bas Rhin Meuse des ATLAS\n",
    "DATASET_PATH_LIST = '/home/souhila/nvme-storage/Info_BR_M.xlsx'\n",
    "df1 = pd.read_excel(DATASET_PATH_LIST, index = True)\n",
    "taxon = df1.Codes\n",
    "taxon = taxon.tolist()\n",
    "for tax in taxon:\n",
    "    os.mkdir(os.path.join('/home/souhila/nvme-storage/data_interest/'+tax))\n",
    "#DATASET_PATH_ATLAS = os.path.join('/home/souhila/nvme-storage/ATLAS/' + region)\n",
    "#DATASET_PATH_DUST = '/home/souhila/nvme-storage/ATLAS/DUST'\n",
    "\n",
    "#DATASET_PATH_LIST = '/home/souhila/nvme-storage/Info_BR_M.xlsx'"
   ]
  },
  {
   "cell_type": "code",
   "execution_count": 100,
   "metadata": {},
   "outputs": [
    {
     "data": {
      "text/plain": [
       "True"
      ]
     },
     "execution_count": 100,
     "metadata": {},
     "output_type": "execute_result"
    }
   ],
   "source": [
    "'ACLI' in taxon"
   ]
  },
  {
   "cell_type": "code",
   "execution_count": 23,
   "metadata": {},
   "outputs": [
    {
     "name": "stdout",
     "output_type": "stream",
     "text": [
      "/home/souhila/nvme-storage/ATLAS/RA_V3/CMED\n",
      "/home/souhila/nvme-storage/ATLAS/RA_V3/SLAC\n",
      "/home/souhila/nvme-storage/ATLAS/RA_V3/DCOF\n",
      "/home/souhila/nvme-storage/ATLAS/RA_V3/NMIC\n",
      "/home/souhila/nvme-storage/ATLAS/RA_V3/NGER\n",
      "/home/souhila/nvme-storage/ATLAS/RA_V3/CLNT\n",
      "/home/souhila/nvme-storage/ATLAS/RA_V3/ESLE\n",
      "/home/souhila/nvme-storage/ATLAS/RA_V3/NULA\n",
      "/home/souhila/nvme-storage/ATLAS/RA_V3/NERI\n",
      "/home/souhila/nvme-storage/ATLAS/RA_V3/DMES\n",
      "/home/souhila/nvme-storage/ATLAS/RA_V3/PHEL\n",
      "/home/souhila/nvme-storage/ATLAS/RA_V3/NTPT\n",
      "/home/souhila/nvme-storage/ATLAS/RA_V3/GYAT\n",
      "/home/souhila/nvme-storage/ATLAS/RA_V3/GYKU\n",
      "/home/souhila/nvme-storage/ATLAS/RA_V3/AAMB\n",
      "/home/souhila/nvme-storage/ATLAS/RA_V3/NTRV\n",
      "/home/souhila/nvme-storage/ATLAS/RA_V3/SPIN\n",
      "/home/souhila/nvme-storage/ATLAS/RA_V3/CAGR\n",
      "/home/souhila/nvme-storage/ATLAS/RA_V3/FMES\n",
      "/home/souhila/nvme-storage/ATLAS/RA_V3/NAAN\n",
      "/home/souhila/nvme-storage/ATLAS/RA_V3/AOVA\n",
      "/home/souhila/nvme-storage/ATLAS/RA_V3/EOCO\n",
      "/home/souhila/nvme-storage/ATLAS/RA_V3/ETEN\n",
      "/home/souhila/nvme-storage/ATLAS/RA_V3/AMID\n",
      "/home/souhila/nvme-storage/ATLAS/RA_V3/AUGR\n",
      "/home/souhila/nvme-storage/ATLAS/RA_V3/CMLF\n",
      "/home/souhila/nvme-storage/ATLAS/RA_V3/MVAR\n",
      "/home/souhila/nvme-storage/ATLAS/RA_V3/GPRI\n",
      "/home/souhila/nvme-storage/ATLAS/RA_V3/CAEX\n",
      "/home/souhila/nvme-storage/ATLAS/RA_V3/NCTE\n",
      "/home/souhila/nvme-storage/ATLAS/RA_V3/ECAE\n",
      "/home/souhila/nvme-storage/ATLAS/RA_V3/EMIN\n",
      "/home/souhila/nvme-storage/ATLAS/RA_V3/NHEU\n",
      "/home/souhila/nvme-storage/ATLAS/RA_V3/GRHB\n",
      "/home/souhila/nvme-storage/ATLAS/RA_V3/FFVI\n",
      "/home/souhila/nvme-storage/ATLAS/RA_V3/FSLU\n",
      "/home/souhila/nvme-storage/ATLAS/RA_V3/NPAE\n",
      "/home/souhila/nvme-storage/ATLAS/RA_V3/KCLE\n",
      "/home/souhila/nvme-storage/ATLAS/RA_V3/GELG\n",
      "/home/souhila/nvme-storage/ATLAS/RA_V3/RABB\n",
      "/home/souhila/nvme-storage/ATLAS/RA_V3/FCRO\n",
      "/home/souhila/nvme-storage/ATLAS/RA_V3/CMEN\n",
      "/home/souhila/nvme-storage/ATLAS/RA_V3/TFAS\n",
      "/home/souhila/nvme-storage/ATLAS/RA_V3/ADSH\n",
      "/home/souhila/nvme-storage/ATLAS/RA_V3/ADEU\n",
      "/home/souhila/nvme-storage/ATLAS/RA_V3/AUGA\n",
      "/home/souhila/nvme-storage/ATLAS/RA_V3/FPRU\n",
      "/home/souhila/nvme-storage/ATLAS/RA_V3/GTER\n",
      "/home/souhila/nvme-storage/ATLAS/RA_V3/NLAN\n",
      "/home/souhila/nvme-storage/ATLAS/RA_V3/MAAT\n",
      "/home/souhila/nvme-storage/ATLAS/RA_V3/BPAX\n",
      "/home/souhila/nvme-storage/ATLAS/RA_V3/NIFQ\n",
      "/home/souhila/nvme-storage/ATLAS/RA_V3/SBKU\n",
      "/home/souhila/nvme-storage/ATLAS/RA_V3/HARC\n",
      "/home/souhila/nvme-storage/ATLAS/RA_V3/DMON\n",
      "/home/souhila/nvme-storage/ATLAS/RA_V3/GSCI\n",
      "/home/souhila/nvme-storage/ATLAS/RA_V3/NRHY\n",
      "/home/souhila/nvme-storage/ATLAS/RA_V3/GOLI\n",
      "/home/souhila/nvme-storage/ATLAS/RA_V3/NGRE\n",
      "/home/souhila/nvme-storage/ATLAS/RA_V3/PBIO\n",
      "/home/souhila/nvme-storage/ATLAS/RA_V3/NACI\n",
      "/home/souhila/nvme-storage/ATLAS/RA_V3/NRAD\n",
      "/home/souhila/nvme-storage/ATLAS/RA_V3/AUPU\n",
      "/home/souhila/nvme-storage/ATLAS/RA_V3/PTDU\n",
      "/home/souhila/nvme-storage/ATLAS/RA_V3/MCIR\n",
      "/home/souhila/nvme-storage/ATLAS/RA_V3/SKPO\n",
      "/home/souhila/nvme-storage/ATLAS/RA_V3/SSVE\n",
      "/home/souhila/nvme-storage/ATLAS/RA_V3/NACD\n",
      "/home/souhila/nvme-storage/ATLAS/RA_V3/GTRU\n",
      "/home/souhila/nvme-storage/ATLAS/RA_V3/GMIN\n",
      "/home/souhila/nvme-storage/ATLAS/RA_V3/ENMI\n",
      "/home/souhila/nvme-storage/ATLAS/RA_V3/STMI\n",
      "/home/souhila/nvme-storage/ATLAS/RA_V3/PULA\n",
      "/home/souhila/nvme-storage/ATLAS/RA_V3/PLAU\n",
      "/home/souhila/nvme-storage/ATLAS/RA_V3/PSCA\n",
      "/home/souhila/nvme-storage/ATLAS/RA_V3/NFIL\n",
      "/home/souhila/nvme-storage/ATLAS/RA_V3/DTEN\n",
      "/home/souhila/nvme-storage/ATLAS/RA_V3/EEXI\n",
      "/home/souhila/nvme-storage/ATLAS/RA_V3/KALA\n",
      "/home/souhila/nvme-storage/ATLAS/RA_V3/ACLI\n",
      "/home/souhila/nvme-storage/ATLAS/RA_V3/NEXI\n",
      "/home/souhila/nvme-storage/ATLAS/RA_V3/AUAJ\n",
      "/home/souhila/nvme-storage/ATLAS/RA_V3/ADMO\n",
      "/home/souhila/nvme-storage/ATLAS/RA_V3/FGRA\n",
      "/home/souhila/nvme-storage/ATLAS/RA_V3/ADAM\n",
      "/home/souhila/nvme-storage/ATLAS/RA_V3/PTDE\n",
      "/home/souhila/nvme-storage/ATLAS/RA_V3/TGES\n",
      "/home/souhila/nvme-storage/ATLAS/RA_V3/GLAT\n",
      "/home/souhila/nvme-storage/ATLAS/RA_V3/TLEV\n",
      "/home/souhila/nvme-storage/ATLAS/RA_V3/SIDE\n",
      "/home/souhila/nvme-storage/ATLAS/RA_V3/FSBH\n",
      "/home/souhila/nvme-storage/ATLAS/RA_V3/CCMP\n",
      "/home/souhila/nvme-storage/ATLAS/RA_V3/PSBR\n",
      "/home/souhila/nvme-storage/ATLAS/RA_V3/NSTS\n",
      "/home/souhila/nvme-storage/ATLAS/RA_V3/CNLP\n",
      "/home/souhila/nvme-storage/ATLAS/RA_V3/NVEN\n",
      "/home/souhila/nvme-storage/ATLAS/RA_V3/ADRU\n",
      "/home/souhila/nvme-storage/ATLAS/RA_V3/MCCO\n",
      "/home/souhila/nvme-storage/ATLAS/RA_V3/NCPR\n",
      "/home/souhila/nvme-storage/ATLAS/RA_V3/NANT\n",
      "/home/souhila/nvme-storage/ATLAS/RA_V3/NLIN\n",
      "/home/souhila/nvme-storage/ATLAS/RA_V3/ADPY\n",
      "/home/souhila/nvme-storage/ATLAS/RA_V3/NIPU\n",
      "/home/souhila/nvme-storage/ATLAS/RA_V3/LGOE\n",
      "/home/souhila/nvme-storage/ATLAS/RA_V3/FNEV\n",
      "/home/souhila/nvme-storage/ATLAS/RA_V3/CAMB\n",
      "/home/souhila/nvme-storage/ATLAS/RA_V3/RSIN\n",
      "/home/souhila/nvme-storage/ATLAS/RA_V3/CDUB\n",
      "/home/souhila/nvme-storage/ATLAS/RA_V3/NCTV\n",
      "/home/souhila/nvme-storage/ATLAS/RA_V3/CTWE\n",
      "/home/souhila/nvme-storage/ATLAS/RA_V3/ADCT\n",
      "/home/souhila/nvme-storage/ATLAS/RA_V3/CRAC\n",
      "/home/souhila/nvme-storage/ATLAS/RA_V3/NVDA\n",
      "/home/souhila/nvme-storage/ATLAS/RA_V3/NZSU\n",
      "/home/souhila/nvme-storage/ATLAS/RA_V3/ADSU\n",
      "/home/souhila/nvme-storage/ATLAS/RA_V3/ADMI\n",
      "/home/souhila/nvme-storage/ATLAS/RA_V3/NESC\n",
      "/home/souhila/nvme-storage/ATLAS/RA_V3/PLEV\n",
      "/home/souhila/nvme-storage/ATLAS/RA_V3/SHTE\n",
      "/home/souhila/nvme-storage/ATLAS/RA_V3/NIAR\n",
      "/home/souhila/nvme-storage/ATLAS/RA_V3/NPAL\n",
      "/home/souhila/nvme-storage/ATLAS/RA_V3/GCUN\n",
      "/home/souhila/nvme-storage/ATLAS/RA_V3/EICD\n",
      "/home/souhila/nvme-storage/ATLAS/RA_V3/PLFR\n",
      "/home/souhila/nvme-storage/ATLAS/RA_V3/FSAP\n",
      "/home/souhila/nvme-storage/ATLAS/RA_V3/ENVE\n",
      "/home/souhila/nvme-storage/ATLAS/RA_V3/PTLA\n",
      "/home/souhila/nvme-storage/ATLAS/RA_V3/GPLI\n",
      "/home/souhila/nvme-storage/ATLAS/RA_V3/FVAU\n",
      "/home/souhila/nvme-storage/ATLAS/RA_V3/NROS\n",
      "/home/souhila/nvme-storage/ATLAS/RA_V3/FMOC\n",
      "/home/souhila/nvme-storage/ATLAS/RA_V3/DOCU\n",
      "/home/souhila/nvme-storage/ATLAS/RA_V3/NSUA\n",
      "/home/souhila/nvme-storage/ATLAS/RA_V3/NINC\n",
      "/home/souhila/nvme-storage/ATLAS/RA_V3/CPLA\n",
      "/home/souhila/nvme-storage/ATLAS/RA_V3/NCPL\n",
      "/home/souhila/nvme-storage/ATLAS/RA_V3/NVIR\n",
      "/home/souhila/nvme-storage/ATLAS/RA_V3/GPAR\n",
      "/home/souhila/nvme-storage/ATLAS/RA_V3/THLA\n",
      "/home/souhila/nvme-storage/ATLAS/RA_V3/HLMO\n",
      "/home/souhila/nvme-storage/ATLAS/RA_V3/PAPR\n",
      "/home/souhila/nvme-storage/ATLAS/RA_V3/APED\n",
      "/home/souhila/nvme-storage/ATLAS/RA_V3/AFOR\n",
      "/home/souhila/nvme-storage/ATLAS/RA_V3/NNOT\n",
      "/home/souhila/nvme-storage/ATLAS/RA_V3/SPUP\n",
      "/home/souhila/nvme-storage/ATLAS/RA_V3/CSLP\n",
      "/home/souhila/nvme-storage/ATLAS/RA_V3/PDAO\n",
      "/home/souhila/nvme-storage/ATLAS/RA_V3/GACC\n",
      "/home/souhila/nvme-storage/ATLAS/RA_V3/CPED\n",
      "/home/souhila/nvme-storage/ATLAS/RA_V3/PTCO\n",
      "/home/souhila/nvme-storage/ATLAS/RA_V3/SBND\n",
      "/home/souhila/nvme-storage/ATLAS/RA_V3/NFON\n",
      "/home/souhila/nvme-storage/ATLAS/RA_V3/PSAT\n",
      "/home/souhila/nvme-storage/ATLAS/RA_V3/NRCS\n",
      "/home/souhila/nvme-storage/ATLAS/RA_V3/NAMP\n",
      "/home/souhila/nvme-storage/ATLAS/RA_V3/HVEN\n",
      "/home/souhila/nvme-storage/ATLAS/RA_V3/ADRI\n",
      "/home/souhila/nvme-storage/ATLAS/RA_V3/ECPM\n",
      "/home/souhila/nvme-storage/ATLAS/RA_V3/GCLF\n",
      "/home/souhila/nvme-storage/ATLAS/RA_V3/COPL\n",
      "/home/souhila/nvme-storage/ATLAS/RA_V3/UULN\n",
      "/home/souhila/nvme-storage/ATLAS/RA_V3/DVUL\n",
      "/home/souhila/nvme-storage/ATLAS/RA_V3/CTPU\n",
      "/home/souhila/nvme-storage/ATLAS/RA_V3/NRCH\n",
      "/home/souhila/nvme-storage/ATLAS/RA_V3/CATO\n",
      "/home/souhila/nvme-storage/ATLAS/RA_V3/NCRY\n",
      "/home/souhila/nvme-storage/ATLAS/RA_V3/FPEC\n",
      "/home/souhila/nvme-storage/ATLAS/RA_V3/CEUG\n",
      "/home/souhila/nvme-storage/ATLAS/RA_V3/SCON\n",
      "/home/souhila/nvme-storage/ATLAS/RA_V3/NCTO\n",
      "/home/souhila/nvme-storage/ATLAS/RA_V3/NYCO\n",
      "/home/souhila/nvme-storage/ATLAS/RA_V3/TAPI\n",
      "/home/souhila/nvme-storage/ATLAS/RA_V3/CLCT\n",
      "/home/souhila/nvme-storage/ATLAS/RA_V3/NSIA\n",
      "/home/souhila/nvme-storage/ATLAS/RA_V3/NDIS\n",
      "/home/souhila/nvme-storage/ATLAS/RA_V3/NCIN\n",
      "/home/souhila/nvme-storage/ATLAS/RA_V3/DSTE\n",
      "/home/souhila/nvme-storage/ATLAS/RA_V3/RUNI\n",
      "/home/souhila/nvme-storage/ATLAS/RA_V3/NSOC\n",
      "/home/souhila/nvme-storage/ATLAS/RA_V3/MPMI\n",
      "/home/souhila/nvme-storage/ATLAS/RA_V3/CINV\n",
      "/home/souhila/nvme-storage/ATLAS/RA_V3/ESUM\n",
      "/home/souhila/nvme-storage/ATLAS/IDF_V3/PGRN\n",
      "/home/souhila/nvme-storage/ATLAS/IDF_V3/ADSB\n",
      "/home/souhila/nvme-storage/ATLAS/IDF_V3/GYAC\n",
      "/home/souhila/nvme-storage/ATLAS/IDF_V3/NREC\n",
      "/home/souhila/nvme-storage/ATLAS/IDF_V3/NIBU\n",
      "/home/souhila/nvme-storage/ATLAS/IDF_V3/GBOB\n",
      "/home/souhila/nvme-storage/ATLAS/IDF_V3/FLEN\n",
      "/home/souhila/nvme-storage/ATLAS/IDF_V3/NIPF\n",
      "/home/souhila/nvme-storage/ATLAS/IDF_V3/ENCM\n",
      "/home/souhila/nvme-storage/ATLAS/IDF_V3/NPAD\n",
      "/home/souhila/nvme-storage/ATLAS/BRG_V1/PSXO\n",
      "/home/souhila/nvme-storage/ATLAS/BRG_V1/HUCO\n",
      "/home/souhila/nvme-storage/ATLAS/BRG_V1/MING\n",
      "/home/souhila/nvme-storage/ATLAS/BRG_V1/PTPU\n",
      "/home/souhila/nvme-storage/ATLAS/BRG_V1/SPRG\n",
      "/home/souhila/nvme-storage/ATLAS/BRG_V1/SNIG\n",
      "/home/souhila/nvme-storage/ATLAS/BRG_V1/FCAD\n",
      "/home/souhila/nvme-storage/ATLAS/BRG_V1/CSNU\n",
      "/home/souhila/nvme-storage/ATLAS/BRG_V1/SSGE\n",
      "/home/souhila/nvme-storage/ATLAS/BRG_V1/LHLU\n",
      "/home/souhila/nvme-storage/ATLAS/BRG_V1/AUSU\n",
      "/home/souhila/nvme-storage/ATLAS/BRG_V1/PROH\n",
      "/home/souhila/nvme-storage/ATLAS/BRG_V1/SEAT\n"
     ]
    }
   ],
   "source": [
    "#regions = ['BRG_V1','IDF_V3','RA_V3']\n",
    "for root,_, files in os.walk('/home/souhila/nvme-storage/ATLAS/'):\n",
    "    if len(files)!=0:\n",
    "        root2 = os.path.join('/home/souhila/nvme-storage/data_interest2/' + root.split('/')[-1] )\n",
    "        if  os.path.exists(root2):\n",
    "            for file in files:\n",
    "                shutil.copy(os.path.join(root + '/' + file),os.path.join('/home/souhila/nvme-storage/data_interest2/' + root.split('/')[-1] ))\n",
    "        else:\n",
    "            #print('taxon:',taxon)\n",
    "            if root.split('/')[-1] in taxon:\n",
    "                print(root)\n",
    "                shutil.copytree(os.path.join(root ),os.path.join('/home/souhila/nvme-storage/data_interest2/' + root.split('/')[-1] ))\n"
   ]
  },
  {
   "cell_type": "code",
   "execution_count": 17,
   "metadata": {},
   "outputs": [
    {
     "data": {
      "text/plain": [
       "'/home/souhila/nvme-storage/ATLAS/RA_V3/ADLA'"
      ]
     },
     "execution_count": 17,
     "metadata": {},
     "output_type": "execute_result"
    }
   ],
   "source": [
    "root"
   ]
  },
  {
   "cell_type": "code",
   "execution_count": null,
   "metadata": {},
   "outputs": [],
   "source": [
    "#selection taxon d interet\n"
   ]
  },
  {
   "cell_type": "code",
   "execution_count": 30,
   "metadata": {},
   "outputs": [
    {
     "data": {
      "text/plain": [
       "'/home/souhila/nvme-storage/ATLAS/BRG_V1/BRG/SEAT'"
      ]
     },
     "execution_count": 30,
     "metadata": {},
     "output_type": "execute_result"
    }
   ],
   "source": [
    "root"
   ]
  },
  {
   "cell_type": "code",
   "execution_count": null,
   "metadata": {},
   "outputs": [],
   "source": [
    "#separation des donnees train et test"
   ]
  }
 ],
 "metadata": {
  "kernelspec": {
   "display_name": "Python 3",
   "language": "python",
   "name": "python3"
  },
  "language_info": {
   "codemirror_mode": {
    "name": "ipython",
    "version": 3
   },
   "file_extension": ".py",
   "mimetype": "text/x-python",
   "name": "python",
   "nbconvert_exporter": "python",
   "pygments_lexer": "ipython3",
   "version": "3.6.9"
  }
 },
 "nbformat": 4,
 "nbformat_minor": 4
}
