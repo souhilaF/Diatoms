{
 "cells": [
  {
   "cell_type": "code",
   "execution_count": 1,
   "metadata": {},
   "outputs": [],
   "source": [
    "import cv2  \n",
    "import numpy as np \n",
    "import random\n",
    "import imutils\n",
    "from os import listdir\n",
    "import os \n",
    "import shutil\n",
    "import pandas as pd\n",
    "\n",
    "import os"
   ]
  },
  {
   "cell_type": "code",
   "execution_count": 2,
   "metadata": {},
   "outputs": [],
   "source": [
    "DATASET_PATH_FROM = '/home/souhila/nvme-storage/data/origin/test_origin/'\n",
    "DATASET_PATH_TO = '/home/souhila/nvme-storage/data/origin/train_origin/'\n",
    "list_tax = list()"
   ]
  },
  {
   "cell_type": "markdown",
   "metadata": {},
   "source": [
    "Partage des données entre train et test"
   ]
  },
  {
   "cell_type": "code",
   "execution_count": 3,
   "metadata": {},
   "outputs": [],
   "source": [
    "for root, _,files in os.walk(DATASET_PATH_FROM):\n",
    "    if len(files) != 0:\n",
    "        list_tax.append(root.split('/')[-1])\n",
    "    "
   ]
  },
  {
   "cell_type": "code",
   "execution_count": null,
   "metadata": {},
   "outputs": [],
   "source": [
    "for folder in list_tax:\n",
    "    os.mkdir(os.path.join(DATASET_PATH_TO + folder))\n",
    "\n",
    "    \n",
    "for folder in list_tax:\n",
    "    os.mkdir(os.path.join('/home/souhila/nvme-storage/data/origin/test_origin/' + folder))"
   ]
  },
  {
   "cell_type": "code",
   "execution_count": null,
   "metadata": {},
   "outputs": [],
   "source": [
    "for taxon in list_tax:\n",
    "    path = os.path.join('/home/souhila/nvme-storage/data_interest2/' + taxon)\n",
    "    for root, _,files in os.walk(path):\n",
    "        taxa = np.random.choice(files,int(len(files)/3), replace=False)\n",
    "        for tax in taxa: \n",
    "            os.rename(os.path.join('/home/souhila/nvme-storage/data_interest2/' + taxon +'/'+tax),\n",
    "                    os.path.join('/home/souhila/nvme-storage/data/origin/test_origin/'+taxon +'/'+tax))\n",
    "\n",
    "\n",
    "        \n"
   ]
  },
  {
   "cell_type": "code",
   "execution_count": null,
   "metadata": {},
   "outputs": [],
   "source": [
    "for taxon in list_tax:\n",
    "    path = os.path.join('/home/souhila/nvme-storage/data_interest2/' + taxon)\n",
    "    for root, _,files in os.walk(path):\n",
    "        for file in files:\n",
    "            os.rename(os.path.join('/home/souhila/nvme-storage/data_interest2/' + taxon +'/'+file),\n",
    "                                   os.path.join('/home/souhila/nvme-storage/data/origin/train_origin/'+taxon + '/' +file))"
   ]
  },
  {
   "cell_type": "markdown",
   "metadata": {},
   "source": [
    "Partage entre Train et Val"
   ]
  },
  {
   "cell_type": "code",
   "execution_count": 6,
   "metadata": {},
   "outputs": [],
   "source": [
    "for taxon in list_tax:\n",
    "    os.mkdir(os.path.join('/home/souhila/nvme-storage/data/origin/train_origin/train/'+taxon ))"
   ]
  },
  {
   "cell_type": "code",
   "execution_count": 18,
   "metadata": {},
   "outputs": [],
   "source": [
    "for root, _,files in os.walk('/home/souhila/nvme-storage/data/origin/train_origin/val/'):\n",
    "    if len(files) !=0:\n",
    "        for file in files:\n",
    "            os.rename(os.path.join(root +'/'+file),\n",
    "                    os.path.join('/home/souhila/nvme-storage/data/origin/train_origin/' +root.split('/')[-1]+'/'+file))\n"
   ]
  },
  {
   "cell_type": "code",
   "execution_count": 24,
   "metadata": {},
   "outputs": [],
   "source": [
    "for root, _,files in os.walk('/home/souhila/nvme-storage/data/origin/train_origin/'):\n",
    "    \n",
    "    if len(files) !=0:\n",
    "        for root2, _2,files2 in os.walk(os.path.join('/home/souhila/nvme-storage/data/origin/train_origin/val/' +root.split('/')[-1])):\n",
    "            if len(files2) ==0:\n",
    "\n",
    "                taxa = np.random.choice(files,int(len(files)/3), replace=False)\n",
    "                for tax in taxa: \n",
    "                    os.rename(os.path.join('/home/souhila/nvme-storage/data/origin/train_origin/' +root.split('/')[-1] +'/'+tax),\n",
    "                            os.path.join('/home/souhila/nvme-storage/data/origin/train_origin/val/' +root.split('/')[-1]+'/'+tax))\n",
    "\n"
   ]
  },
  {
   "cell_type": "code",
   "execution_count": null,
   "metadata": {},
   "outputs": [],
   "source": []
  },
  {
   "cell_type": "code",
   "execution_count": 26,
   "metadata": {},
   "outputs": [],
   "source": [
    "for taxon in list_tax:\n",
    "    path = os.path.join('/home/souhila/nvme-storage/data/origin/train_origin/' + taxon)\n",
    "    for root, _,files in os.walk(path):\n",
    "        for file in files:\n",
    "            os.rename(os.path.join('/home/souhila/nvme-storage/data/origin/train_origin/' + taxon +'/'+file),  \n",
    "                      os.path.join('/home/souhila/nvme-storage/data/origin/train_origin/train/'+taxon + '/' +file))"
   ]
  },
  {
   "cell_type": "code",
   "execution_count": 30,
   "metadata": {},
   "outputs": [],
   "source": [
    "'''#supprime les dossier\n",
    "path = '/home/souhila/nvme-storage/data/origin/train_origin/' \n",
    "\n",
    "for tax in list_tax:\n",
    "    os.rmdir(os.path.join(path+tax))'''"
   ]
  },
  {
   "cell_type": "code",
   "execution_count": null,
   "metadata": {},
   "outputs": [],
   "source": []
  }
 ],
 "metadata": {
  "kernelspec": {
   "display_name": "Python 3",
   "language": "python",
   "name": "python3"
  },
  "language_info": {
   "codemirror_mode": {
    "name": "ipython",
    "version": 3
   },
   "file_extension": ".py",
   "mimetype": "text/x-python",
   "name": "python",
   "nbconvert_exporter": "python",
   "pygments_lexer": "ipython3",
   "version": "3.6.9"
  }
 },
 "nbformat": 4,
 "nbformat_minor": 4
}
