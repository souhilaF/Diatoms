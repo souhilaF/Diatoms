{
 "cells": [
  {
   "cell_type": "code",
   "execution_count": 4,
   "metadata": {},
   "outputs": [
    {
     "ename": "TypeError",
     "evalue": "listdir: path should be string, bytes, os.PathLike, integer or None, not list",
     "output_type": "error",
     "traceback": [
      "\u001b[0;31m---------------------------------------------------------------------------\u001b[0m",
      "\u001b[0;31mTypeError\u001b[0m                                 Traceback (most recent call last)",
      "\u001b[0;32m<ipython-input-4-33319214963a>\u001b[0m in \u001b[0;36m<module>\u001b[0;34m\u001b[0m\n\u001b[1;32m     44\u001b[0m \u001b[0moutput_folder\u001b[0m \u001b[0;34m=\u001b[0m \u001b[0;34m\".\\\\data\\\\\"\u001b[0m\u001b[0;34m\u001b[0m\u001b[0;34m\u001b[0m\u001b[0m\n\u001b[1;32m     45\u001b[0m \u001b[0mi\u001b[0m\u001b[0;34m=\u001b[0m\u001b[0;36m0\u001b[0m\u001b[0;34m\u001b[0m\u001b[0;34m\u001b[0m\u001b[0m\n\u001b[0;32m---> 46\u001b[0;31m \u001b[0mannotations_paths\u001b[0m \u001b[0;34m=\u001b[0m \u001b[0;34m[\u001b[0m\u001b[0mannotation_pathannotation_pathannotation_pathf\u001b[0m \u001b[0;32mfor\u001b[0m \u001b[0mf\u001b[0m \u001b[0;32min\u001b[0m \u001b[0mlistdir\u001b[0m\u001b[0;34m(\u001b[0m\u001b[0mroot_annotations\u001b[0m\u001b[0;34m)\u001b[0m \u001b[0;32mif\u001b[0m \u001b[0misfile\u001b[0m\u001b[0;34m(\u001b[0m\u001b[0mjoin\u001b[0m\u001b[0;34m(\u001b[0m\u001b[0mroot_annotations\u001b[0m\u001b[0;34m,\u001b[0m \u001b[0mf\u001b[0m\u001b[0;34m)\u001b[0m\u001b[0;34m)\u001b[0m\u001b[0;34m]\u001b[0m\u001b[0;34m\u001b[0m\u001b[0;34m\u001b[0m\u001b[0m\n\u001b[0m\u001b[1;32m     47\u001b[0m \u001b[0;32mfor\u001b[0m \u001b[0mannotation_path\u001b[0m \u001b[0;32min\u001b[0m \u001b[0mannotations_paths\u001b[0m\u001b[0;34m:\u001b[0m\u001b[0;34m\u001b[0m\u001b[0;34m\u001b[0m\u001b[0m\n\u001b[1;32m     48\u001b[0m     \u001b[0;32mif\u001b[0m \u001b[0mannotation_path\u001b[0m\u001b[0;34m.\u001b[0m\u001b[0msplit\u001b[0m\u001b[0;34m(\u001b[0m\u001b[0;34m\".\"\u001b[0m\u001b[0;34m)\u001b[0m\u001b[0;34m[\u001b[0m\u001b[0;34m-\u001b[0m\u001b[0;36m1\u001b[0m\u001b[0;34m]\u001b[0m\u001b[0;34m==\u001b[0m\u001b[0;34m\"xml\"\u001b[0m\u001b[0;34m:\u001b[0m\u001b[0;34m\u001b[0m\u001b[0;34m\u001b[0m\u001b[0m\n",
      "\u001b[0;31mTypeError\u001b[0m: listdir: path should be string, bytes, os.PathLike, integer or None, not list"
     ]
    }
   ],
   "source": [
    "from lxml import etree\n",
    "from os import listdir\n",
    "from os.path import isfile, join\n",
    "import cv2\n",
    "import random\n",
    "import os\n",
    "\n",
    "\n",
    "\n",
    "DATASET_PATH_ROOT = \"/home/souhila/nvme-storage\"\n",
    "FILE = \"RA_V2/tmp\"\n",
    "DATASET_PATH = join(DATASET_PATH_ROOT + '/' + FILE)\n",
    "path = join(DATASET_PATH + '/' + random.choice(os.listdir(DATASET_PATH)))\n",
    "\n",
    "\n",
    "# %%\n",
    "def parse_annotation(annotation_path):\n",
    "    annotation = {}\n",
    "    tree = etree.parse(annotation_path)\n",
    "    root = tree.getroot()\n",
    "    annotation[\"folder\"] = root.find(\"folder\").text\n",
    "    annotation[\"path\"] = root.find(\"path\").text\n",
    "    annotation[\"filename\"] = root.find(\"filename\").text\n",
    "    size_node = root.find(\"size\")\n",
    "    annotation[\"size\"] = {\n",
    "        \"width\": int(size_node.find(\"width\").text),\n",
    "        \"height\": int(size_node.find(\"height\").text),\n",
    "        \"depth\": int(size_node.find(\"depth\").text)\n",
    "    }\n",
    "    annotation[\"objects\"] = []\n",
    "    for object_el in root.iterchildren(tag='object'):\n",
    "        tmp = {}\n",
    "        tmp[\"name\"]=object_el.find(\"name\").text\n",
    "        bndbox = object_el.find(\"bndbox\")\n",
    "        tmp[\"xmin\"]=int(bndbox.find(\"xmin\").text)\n",
    "        tmp[\"ymin\"]=int(bndbox.find(\"ymin\").text)\n",
    "        tmp[\"xmax\"]=int(bndbox.find(\"xmax\").text)\n",
    "        tmp[\"ymax\"]=int(bndbox.find(\"ymax\").text)\n",
    "        annotation[\"objects\"].append(tmp)\n",
    "    return annotation\n",
    "\n",
    "# %%\n",
    "root_annotations = os.listdir(DATASET_PATH)\n",
    "output_folder = \".\\\\data\\\\\"\n",
    "i=0\n",
    "annotations_paths = [annotation_pathannotation_pathannotation_pathf for f in listdir(root_annotations) if isfile(join(root_annotations, f))]\n",
    "for annotation_path in annotations_paths:\n",
    "    if annotation_path.split(\".\")[-1]==\"xml\":\n",
    "        annotation = parse_annotation(join(root_annotations,annotation_path))\n",
    "        image_path = annotation[\"path\"]\n",
    "        img = cv2.imread(image_path, cv2.IMREAD_GRAYSCALE)\n",
    "        for obj_bb in annotation[\"objects\"]:\n",
    "            ymin, xmin, ymax, xmax = obj_bb[\"ymin\"], obj_bb[\"xmin\"], obj_bb[\"ymax\"], obj_bb[\"xmax\"]\n",
    "            patch = img[ymin:ymax, xmin:xmax]\n",
    "            if not (patch.shape[0]==0 or patch.shape[1]==0):\n",
    "                cv2.imwrite(join(output_folder, str(i)+\".png\"), patch)\n",
    "                i+=1\n",
    "print(i, \"patches extracted!\")\n"
   ]
  },
  {
   "cell_type": "code",
   "execution_count": null,
   "metadata": {},
   "outputs": [],
   "source": []
  }
 ],
 "metadata": {
  "kernelspec": {
   "display_name": "Python 3",
   "language": "python",
   "name": "python3"
  },
  "language_info": {
   "codemirror_mode": {
    "name": "ipython",
    "version": 3
   },
   "file_extension": ".py",
   "mimetype": "text/x-python",
   "name": "python",
   "nbconvert_exporter": "python",
   "pygments_lexer": "ipython3",
   "version": "3.6.9"
  }
 },
 "nbformat": 4,
 "nbformat_minor": 4
}
