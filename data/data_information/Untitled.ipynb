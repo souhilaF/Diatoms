{
 "cells": [
  {
   "cell_type": "code",
   "execution_count": 4,
   "metadata": {},
   "outputs": [
    {
     "name": "stdout",
     "output_type": "stream",
     "text": [
      "b'<users>\\n  <user data-id=\"101\">\\n    <nom>Zorro</nom>\\n    <metier>Danseur</metier>\\n  </user>\\n</users>\\n'\n"
     ]
    }
   ],
   "source": [
    "\n",
    "from lxml import etree\n",
    "\n",
    "users = etree.Element(\"users\")\n",
    "user = etree.SubElement(users, \"user\")\n",
    "user.set(\"data-id\", \"101\")\n",
    "nom = etree.SubElement(user, \"nom\")\n",
    "nom.text = \"Zorro\"\n",
    "metier = etree.SubElement(user, \"metier\")\n",
    "metier.text = \"Danseur\"\n",
    "print(etree.tostring(users, pretty_print=True))\n"
   ]
  },
  {
   "cell_type": "code",
   "execution_count": 1,
   "metadata": {},
   "outputs": [],
   "source": [
    "from lxml import etree\n",
    "import json"
   ]
  },
  {
   "cell_type": "code",
   "execution_count": 2,
   "metadata": {},
   "outputs": [
    {
     "name": "stdout",
     "output_type": "stream",
     "text": [
      "Zorro\n",
      "Hulk\n",
      "Zidane\n",
      "Beans\n",
      "Batman\n",
      "Spiderman\n"
     ]
    }
   ],
   "source": [
    "tree = etree.parse(\"/home/souhila/nvme-storage/data.xml\")\n",
    "for user in tree.xpath(\"/users/user/nom\"):\n",
    "    print(user.text)"
   ]
  },
  {
   "cell_type": "code",
   "execution_count": null,
   "metadata": {},
   "outputs": [],
   "source": []
  }
 ],
 "metadata": {
  "kernelspec": {
   "display_name": "Python 3",
   "language": "python",
   "name": "python3"
  },
  "language_info": {
   "codemirror_mode": {
    "name": "ipython",
    "version": 3
   },
   "file_extension": ".py",
   "mimetype": "text/x-python",
   "name": "python",
   "nbconvert_exporter": "python",
   "pygments_lexer": "ipython3",
   "version": "3.6.9"
  }
 },
 "nbformat": 4,
 "nbformat_minor": 4
}
