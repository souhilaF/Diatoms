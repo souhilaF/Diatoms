{
 "cells": [
  {
   "cell_type": "code",
   "execution_count": null,
   "metadata": {},
   "outputs": [],
   "source": [
    "def rot_image(path):\n",
    "    img = cv2.imread(path,cv2.COLOR_BGR2GRAY)\n",
    "    #mask = np.zeros_like(img)-1\n",
    "    \n",
    "    #rotation mask et image\n",
    "    mask_rot = np.ones(img.shape,np.uint8)\n",
    "    angle = random.randint(0,90)\n",
    "    img_rot = imutils.rotate_bound(img, angle)\n",
    "    mask_rot = imutils.rotate_bound(mask_rot, angle)\n",
    "    \n",
    "    #erosion mask\n",
    "    mask_erod =np.zeros_like(img_rot,np.uint8)\n",
    "    kernel_size = 5\n",
    "    kernel = np.ones((kernel_size,kernel_size),np.uint8)\n",
    "    mask_erod = cv2.erode(mask_rot,kernel,iterations = 1)\n",
    "    \n",
    "    #bounding box\n",
    "    bb1 = (np.asmatrix(np.where(mask_rot==1))[0,0],np.asmatrix(np.where(mask_rot==1))[1,0])\n",
    "    bb2 = (np.asmatrix(np.where(mask_rot==1))[0,-1],np.asmatrix(np.where(mask_rot==1))[1,-1])\n",
    "    \n",
    "    #pixels erodé\n",
    "    erod = (mask_rot - mask_erod)*255\n",
    "    \n",
    "    #erod_img[erod==255] = img_rot[erod==255]\n",
    "\n",
    "    fond_moyen = []\n",
    "    fond_moyen = img_rot[erod!=0]\n",
    "    fond_moyen = int(np.mean(fond_moyen))\n",
    "    img_rot[mask_erod == 0] = fond_moyen\n",
    "    #display(Image.fromarray(img_rot))\n",
    "\n",
    "\n",
    "    return(img_rot, mask_rot, mask_erod, fond_moyen)"
   ]
  },
  {
   "cell_type": "code",
   "execution_count": null,
   "metadata": {},
   "outputs": [],
   "source": []
  }
 ],
 "metadata": {
  "kernelspec": {
   "display_name": "Python 3",
   "language": "python",
   "name": "python3"
  },
  "language_info": {
   "codemirror_mode": {
    "name": "ipython",
    "version": 3
   },
   "file_extension": ".py",
   "mimetype": "text/x-python",
   "name": "python",
   "nbconvert_exporter": "python",
   "pygments_lexer": "ipython3",
   "version": "3.6.9"
  }
 },
 "nbformat": 4,
 "nbformat_minor": 4
}
