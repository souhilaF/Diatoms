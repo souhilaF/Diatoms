{
 "cells": [
  {
   "cell_type": "code",
   "execution_count": 8,
   "metadata": {},
   "outputs": [
    {
     "name": "stderr",
     "output_type": "stream",
     "text": [
      "ERROR:root:File `'zstack.ipynb.py'` not found.\n"
     ]
    }
   ],
   "source": [
    "import cv2  \n",
    "import numpy as np \n",
    "from PIL import ImageFilter \n",
    "from PIL import Image\n",
    "from IPython.display import clear_output\n",
    "import matplotlib.pyplot as plt\n",
    "import random\n",
    "import imutils\n",
    "from os import listdir\n",
    "import matplotlib.image as mpimg\n",
    "\n",
    "\n",
    "%run /home/souhila/Diatoms/variables.ipynb\n",
    "%run/ zstack.ipynb"
   ]
  },
  {
   "cell_type": "code",
   "execution_count": 3,
   "metadata": {},
   "outputs": [
    {
     "ename": "IndentationError",
     "evalue": "expected an indented block (<ipython-input-3-17ff72c43c5c>, line 16)",
     "output_type": "error",
     "traceback": [
      "\u001b[0;36m  File \u001b[0;32m\"<ipython-input-3-17ff72c43c5c>\"\u001b[0;36m, line \u001b[0;32m16\u001b[0m\n\u001b[0;31m    img = rot_image_img(zslack[i],angle)\u001b[0m\n\u001b[0m      ^\u001b[0m\n\u001b[0;31mIndentationError\u001b[0m\u001b[0;31m:\u001b[0m expected an indented block\n"
     ]
    }
   ],
   "source": [
    "files = [f for f in listdir(DATASET_PATH) if isfile(join(DATASET_PATH, f))]\n",
    "id = []\n",
    "for file in files:\n",
    "    DATASET_PATH_img = join(DATASET_PATH_ROOT + '/' + file)\n",
    "    \n",
    "    taxon = file.split('_')[1]\n",
    "    angle = random.randint(0,180)\n",
    "    print(DATASET_PATH_img)\n",
    "    #img, mask_rot, mask_erod, fond_moyen = rot_image_path(DATASET_PATH,angle)\n",
    "    img = cv2.imread(DATASET_PATH_img,cv2.COLOR_BGR2GRAY)\n",
    "    zslack = flou_plane(img,alpha=10 )\n",
    "    angle = random.randint(0,90)\n",
    "    print(angle)\n",
    "\n",
    "    for i in range(6):\n",
    "    img = rot_image_img(zslack[i],angle)\n",
    "    #p = plt.imshow(Image.fromarray(img))\n",
    "    #plt.show()\n",
    "        \n",
    "\n",
    "    mpimg.imsave(\"resultat.png\", img)\n",
    "\n"
   ]
  }
 ],
 "metadata": {
  "kernelspec": {
   "display_name": "Python 3",
   "language": "python",
   "name": "python3"
  },
  "language_info": {
   "codemirror_mode": {
    "name": "ipython",
    "version": 3
   },
   "file_extension": ".py",
   "mimetype": "text/x-python",
   "name": "python",
   "nbconvert_exporter": "python",
   "pygments_lexer": "ipython3",
   "version": "3.6.9"
  }
 },
 "nbformat": 4,
 "nbformat_minor": 4
}
