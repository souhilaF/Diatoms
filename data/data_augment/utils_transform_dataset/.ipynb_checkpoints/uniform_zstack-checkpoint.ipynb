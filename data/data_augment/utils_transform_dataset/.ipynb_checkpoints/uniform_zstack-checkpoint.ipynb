{
 "cells": [
  {
   "cell_type": "code",
   "execution_count": 1,
   "metadata": {},
   "outputs": [],
   "source": [
    "import cv2  \n",
    "import numpy as np \n",
    "from PIL import ImageFilter \n",
    "from PIL import Image\n",
    "from IPython.display import clear_output\n",
    "import matplotlib.pyplot as plt\n",
    "import random\n",
    "import imutils\n",
    "from os import listdir\n",
    "import os\n",
    "from random import choices\n",
    "%run zstack.ipynb\n",
    "%run variables.ipynb\n",
    "#%run generator.ipynb\n",
    "%run ../utils.ipynb\n",
    "%run ../../data_order/folders_utils.ipynb\n"
   ]
  },
  {
   "cell_type": "code",
   "execution_count": 2,
   "metadata": {},
   "outputs": [],
   "source": [
    "DATASET_PATH = DATASET_PATH_ORIGIN_DIATOMS\n",
    "DATASET_PATH_OUT = DATASET_PATH_artifical_DIATOMS\n"
   ]
  },
  {
   "cell_type": "code",
   "execution_count": null,
   "metadata": {},
   "outputs": [],
   "source": [
    "'''list_files=[]\n",
    "DATASET_PATH='/home/souhila/nvme-storage/data/origin/train_origin/train/'\n",
    "dirs = [f for f in listdir(DATASET_PATH) if os.path.isdir(os.path.join(DATASET_PATH, f))]\n",
    "dirs.remove( '.ipynb_checkpoints')\n",
    "list_dirs = choices(dirs,k=5000)\n",
    "for dir in list_dirs:\n",
    "    files = [f for f in listdir(os.path.join(DATASET_PATH , dir)) if os.path.isfile(os.path.join(os.path.join(DATASET_PATH , dir) , f))]\n",
    "    list_files.append(choices(files,k=1))\n",
    "Z_rot(list_files, DATASET_PATH, DATASET_PATH_OUT)'''"
   ]
  },
  {
   "cell_type": "code",
   "execution_count": null,
   "metadata": {},
   "outputs": [],
   "source": []
  },
  {
   "cell_type": "code",
   "execution_count": 5,
   "metadata": {},
   "outputs": [],
   "source": [
    "#tirage uniforme des images\n",
    "def Uniform_data(DATASET_PATH, n_sample):\n",
    "    list_files = []\n",
    "    dirs = [f for f in listdir(DATASET_PATH) if os.path.isdir(os.path.join(DATASET_PATH, f))]\n",
    "    #on recpere les espèce de diatomées de l'image de facon uniform\n",
    "    list_dirs = choices(dirs,k=n_sample)\n",
    "    print(list_dirs)\n",
    "    for dir in list_dirs:\n",
    "        files = [f for f in listdir(os.path.join(DATASET_PATH , dir)) if os.path.isfile(os.path.join(os.path.join(DATASET_PATH , dir) , f))]\n",
    "        list_files.append(choices(files,k=1))\n",
    "    return(list_files)\n",
    "    \n"
   ]
  },
  {
   "cell_type": "code",
   "execution_count": 6,
   "metadata": {},
   "outputs": [],
   "source": [
    "\n",
    "def Z_rot(list_files, DATASET_PATH, DATASET_PATH_OUT):\n",
    "    for file in list_files:\n",
    "        angle_1 = random.randint(0,180)\n",
    "        img = cv2.imread(os.path.join(DATASET_PATH , file[0].split('_')[1] , file[0]), cv2.COLOR_BGR2GRAY)\n",
    "        img_rot , angle_1 = rot_image_img(img,angle_1)\n",
    "        zstalck = flou_plane(img_rot,alpha=10 )\n",
    "        angle_2 = random.randint(0,90)\n",
    "        \n",
    "        angle = (angle_1 + angle_2)%180\n",
    "        mask = np.ones(img.shape, dtype='uint8')*255\n",
    "        mask[0,:] = 0\n",
    "        mask[-1,:] = 0\n",
    "        mask[:,0] = 0\n",
    "        mask[:,-1] = 0\n",
    "        mask_rot, angle = rot_image_img(mask,angle)\n",
    "        n_ide=1\n",
    "        for i in range(6):\n",
    "            img2 , angle_2 = rot_image_img(zstalck[i],angle_2)\n",
    "            w , h = img2.shape\n",
    "            w2 , h2 = mask_rot.shape\n",
    "            img_fin = img2[int(np.ceil(w/2)-np.ceil(w2/2)):int(np.ceil(w/2)+np.ceil(w2/2)),\n",
    "                           int(np.ceil(h/2)-np.ceil(h2/2)):int(np.ceil(h/2)+np.ceil(h2/2))]\n",
    "            pat = os.path.join(DATASET_PATH_OUT ,file[0].split('_')[1],  'Diatoms_' +file[0].split('_')[1] + '_' +\n",
    "                               ((file[0].split('_')[2]).split('.png')[0]) + \n",
    "                               '_' +str(n_ide) + '_'+str(i) + '.png')\n",
    "            if os.path.exists(pat):\n",
    "                n_ide = n_ide+1\n",
    "                pat = os.path.join(DATASET_PATH_OUT ,file[0].split('_')[1],  'Diatoms_' +file[0].split('_')[1] + '_' +\n",
    "                                   ((file[0].split('_')[2]).split('.png')[0]) + \n",
    "                                   '_' +str(n_ide) + '_'+str(i) + '.png')\n",
    "                #print(pat ,'exist', n_ide)\n",
    "\n",
    "            else:\n",
    "                cv2.imwrite(os.path.join(DATASET_PATH_OUT , 'Diatoms_' +file[0].split('_')[1] + '_' +\n",
    "                                     ((file[0].split('_')[2]).split('.png')[0]) + '_' +str(n_ide)+'_'+str(i) + '.png'), img_fin)\n",
    "                creat_folders(\"/home/souhila/nvme-storage/data/artificial/tmp_artifical/\", \"/home/souhila/nvme-storage/data/artificial/tmp_artifical/\")\n",
    "\n",
    "                mouv_file(DATASET_PATH_FROM=\"/home/souhila/nvme-storage/data/artificial/tmp_artifical/\", DATASET_PATH_DEST=\"/home/souhila/nvme-storage/data/artificial/tmp_artifical/\")\n"
   ]
  },
  {
   "cell_type": "code",
   "execution_count": null,
   "metadata": {},
   "outputs": [],
   "source": [
    "list_files=[]\n",
    "DATASET_PATH='/home/souhila/nvme-storage/data/origin/train_origin/train/'\n",
    "dirs = [f for f in listdir(DATASET_PATH) if os.path.isdir(os.path.join(DATASET_PATH, f))]\n",
    "dirs.remove( '.ipynb_checkpoints')\n",
    "list_dirs = choices(dirs,k=5000)\n",
    "for dir in list_dirs:\n",
    "    files = [f for f in listdir(os.path.join(DATASET_PATH , dir)) if os.path.isfile(os.path.join(os.path.join(DATASET_PATH , dir) , f))]\n",
    "    list_files.append(choices(files,k=1))\n",
    "Z_rot(list_files, DATASET_PATH, DATASET_PATH_OUT)"
   ]
  },
  {
   "cell_type": "code",
   "execution_count": 7,
   "metadata": {},
   "outputs": [
    {
     "data": {
      "text/plain": [
       "'for file in list_files:\\n        n_ide=1\\n        for i in range(6):\\n            pat = os.path.join(DATASET_PATH_OUT ,file[0].split(\\'_\\')[1],  \\'Diatoms_\\' +file[0].split(\\'_\\')[1] + \\'_\\' +\\n                               ((file[0].split(\\'_\\')[2]).split(\\'.png\\')[0]) + \\n                               \\'_\\' +str(n_ide) + \\'_\\'+str(i) + \\'.png\\')\\n            if os.path.exists(pat):\\n                n_ide = n_ide+1\\n                pat = os.path.join(DATASET_PATH_OUT ,file[0].split(\\'_\\')[1],  \\'Diatoms_\\' +file[0].split(\\'_\\')[1] + \\'_\\' +\\n                                   ((file[0].split(\\'_\\')[2]).split(\\'.png\\')[0]) + \\n                                   \\'_\\' +str(n_ide) + \\'_\\'+str(i) + \\'.png\\')\\n                print(pat ,\\'exist\\', n_ide)\\n\\n            \\n            cv2.imwrite(os.path.join(DATASET_PATH_OUT , \\'Diatoms_\\' +file[0].split(\\'_\\')[1] + \\'_\\' +\\n                                 ((file[0].split(\\'_\\')[2]).split(\\'.png\\')[0]) + \\'_\\' +str(n_ide)+\\'_\\'+str(i) + \\'.png\\'), img_fin)\\n            creat_folders(\"/home/souhila/nvme-storage/data/artificial/tmp_artifical/\", \"/home/souhila/nvme-storage/data/artificial/tmp_artifical/\")\\n\\n            mouv_file(DATASET_PATH_FROM=\"/home/souhila/nvme-storage/data/artificial/tmp_artifical/\", DATASET_PATH_DEST=\"/home/souhila/nvme-storage/data/artificial/tmp_artifical/\")\\n'"
      ]
     },
     "execution_count": 7,
     "metadata": {},
     "output_type": "execute_result"
    }
   ],
   "source": [
    "'''for file in list_files:\n",
    "        n_ide=1\n",
    "        for i in range(6):\n",
    "            pat = os.path.join(DATASET_PATH_OUT ,file[0].split('_')[1],  'Diatoms_' +file[0].split('_')[1] + '_' +\n",
    "                               ((file[0].split('_')[2]).split('.png')[0]) + \n",
    "                               '_' +str(n_ide) + '_'+str(i) + '.png')\n",
    "            if os.path.exists(pat):\n",
    "                n_ide = n_ide+1\n",
    "                pat = os.path.join(DATASET_PATH_OUT ,file[0].split('_')[1],  'Diatoms_' +file[0].split('_')[1] + '_' +\n",
    "                                   ((file[0].split('_')[2]).split('.png')[0]) + \n",
    "                                   '_' +str(n_ide) + '_'+str(i) + '.png')\n",
    "                print(pat ,'exist', n_ide)\n",
    "\n",
    "            \n",
    "            cv2.imwrite(os.path.join(DATASET_PATH_OUT , 'Diatoms_' +file[0].split('_')[1] + '_' +\n",
    "                                 ((file[0].split('_')[2]).split('.png')[0]) + '_' +str(n_ide)+'_'+str(i) + '.png'), img_fin)\n",
    "            creat_folders(\"/home/souhila/nvme-storage/data/artificial/tmp_artifical/\", \"/home/souhila/nvme-storage/data/artificial/tmp_artifical/\")\n",
    "\n",
    "            mouv_file(DATASET_PATH_FROM=\"/home/souhila/nvme-storage/data/artificial/tmp_artifical/\", DATASET_PATH_DEST=\"/home/souhila/nvme-storage/data/artificial/tmp_artifical/\")\n",
    "'''"
   ]
  },
  {
   "cell_type": "code",
   "execution_count": 8,
   "metadata": {},
   "outputs": [
    {
     "data": {
      "text/plain": [
       "\"for file in list_files:\\n        angle_1 = random.randint(0,180)\\n        print(os.path.join(DATASET_PATH , file[0].split('_')[1] , file[0]))\\n        img = cv2.imread(os.path.join(DATASET_PATH , file[0].split('_')[1] , file[0]), cv2.COLOR_BGR2GRAY)\\n        plt.imshow(img)\\n        img_rot , angle_1 = rot_image_img(img,angle_1)\\n        zstalck = flou_plane(img_rot,alpha=10 )\\n        angle_2 = random.randint(0,90)\\n        \\n        angle = (angle_1 + angle_2)%180\\n        mask = np.ones(img.shape, dtype='uint8')*255\\n        mask[0,:] = 0\\n        mask[-1,:] = 0\\n        mask[:,0] = 0\\n        mask[:,-1] = 0\\n        mask_rot, angle = rot_image_img(mask,angle)\\n        for i in range(6):\\n            img2 , angle_2 = rot_image_img(zstalck[i],angle_2)\\n            w , h = img2.shape\\n            w2 , h2 = mask_rot.shape\\n            img_fin = img2[int(np.ceil(w/2)-np.ceil(w2/2)):int(np.ceil(w/2)+np.ceil(w2/2)),\\n                           int(np.ceil(h/2)-np.ceil(h2/2)):int(np.ceil(h/2)+np.ceil(h2/2))]\\n            cv2.imwrite(os.path.join(DATASET_PATH_OUT , 'Diatoms_' +file[0].split('_')[1] + '_' +\\n                                     (file[0].split('_')[2]) + '_' +str(i) + '.png'), img_fin)\\n        \""
      ]
     },
     "execution_count": 8,
     "metadata": {},
     "output_type": "execute_result"
    }
   ],
   "source": [
    "'''for file in list_files:\n",
    "        angle_1 = random.randint(0,180)\n",
    "        print(os.path.join(DATASET_PATH , file[0].split('_')[1] , file[0]))\n",
    "        img = cv2.imread(os.path.join(DATASET_PATH , file[0].split('_')[1] , file[0]), cv2.COLOR_BGR2GRAY)\n",
    "        plt.imshow(img)\n",
    "        img_rot , angle_1 = rot_image_img(img,angle_1)\n",
    "        zstalck = flou_plane(img_rot,alpha=10 )\n",
    "        angle_2 = random.randint(0,90)\n",
    "        \n",
    "        angle = (angle_1 + angle_2)%180\n",
    "        mask = np.ones(img.shape, dtype='uint8')*255\n",
    "        mask[0,:] = 0\n",
    "        mask[-1,:] = 0\n",
    "        mask[:,0] = 0\n",
    "        mask[:,-1] = 0\n",
    "        mask_rot, angle = rot_image_img(mask,angle)\n",
    "        for i in range(6):\n",
    "            img2 , angle_2 = rot_image_img(zstalck[i],angle_2)\n",
    "            w , h = img2.shape\n",
    "            w2 , h2 = mask_rot.shape\n",
    "            img_fin = img2[int(np.ceil(w/2)-np.ceil(w2/2)):int(np.ceil(w/2)+np.ceil(w2/2)),\n",
    "                           int(np.ceil(h/2)-np.ceil(h2/2)):int(np.ceil(h/2)+np.ceil(h2/2))]\n",
    "            cv2.imwrite(os.path.join(DATASET_PATH_OUT , 'Diatoms_' +file[0].split('_')[1] + '_' +\n",
    "                                     (file[0].split('_')[2]) + '_' +str(i) + '.png'), img_fin)\n",
    "        '''"
   ]
  },
  {
   "cell_type": "code",
   "execution_count": null,
   "metadata": {},
   "outputs": [],
   "source": [
    "#n_sample = random.randint(4,12)\n",
    "#n_sample = 50\n",
    "#list_files = Uniform_data(DATASET_PATH, n_sample)\n",
    "#Z_rot(list_files, DATASET_PATH, DATASET_PATH_OUT)"
   ]
  },
  {
   "cell_type": "code",
   "execution_count": null,
   "metadata": {},
   "outputs": [],
   "source": []
  },
  {
   "cell_type": "code",
   "execution_count": 90,
   "metadata": {},
   "outputs": [
    {
     "name": "stdout",
     "output_type": "stream",
     "text": [
      "le dossier:THLAexiste déjà\n",
      "Diatoms_THLA_0449_1_0.png\n"
     ]
    }
   ],
   "source": [
    "'''%run ../../data_order/folders_utils.ipynb\n",
    "creat_folders(\"/home/souhila/nvme-storage/data/artificial/tmp_artifical/\", \"/home/souhila/nvme-storage/data/artificial/tmp_artifical/\")\n",
    "mouv_file(DATASET_PATH_FROM=\"/home/souhila/nvme-storage/data/artificial/tmp_artifical/\", DATASET_PATH_DEST=\"/home/souhila/nvme-storage/data/artificial/tmp_artifical/\")\n",
    "'''"
   ]
  },
  {
   "cell_type": "code",
   "execution_count": 7,
   "metadata": {},
   "outputs": [
    {
     "ename": "IndexError",
     "evalue": "list index out of range",
     "output_type": "error",
     "traceback": [
      "\u001b[0;31m---------------------------------------------------------------------------\u001b[0m",
      "\u001b[0;31mIndexError\u001b[0m                                Traceback (most recent call last)",
      "\u001b[0;32m<ipython-input-7-bd34dd647f61>\u001b[0m in \u001b[0;36m<module>\u001b[0;34m\u001b[0m\n\u001b[1;32m      1\u001b[0m \u001b[0mref\u001b[0m \u001b[0;34m=\u001b[0m \u001b[0mcv2\u001b[0m\u001b[0;34m.\u001b[0m\u001b[0mimread\u001b[0m\u001b[0;34m(\u001b[0m\u001b[0;34m\"/home/souhila/nvme-storage/ATLAS/RA_V3/ABRY/RA_ABRY_0001.png\"\u001b[0m\u001b[0;34m,\u001b[0m \u001b[0mcv2\u001b[0m\u001b[0;34m.\u001b[0m\u001b[0mIMREAD_GRAYSCALE\u001b[0m\u001b[0;34m)\u001b[0m\u001b[0;34m\u001b[0m\u001b[0;34m\u001b[0m\u001b[0m\n\u001b[1;32m      2\u001b[0m \u001b[0mstr_id\u001b[0m \u001b[0;34m=\u001b[0m \u001b[0;34m'{:04d}'\u001b[0m\u001b[0;34m.\u001b[0m\u001b[0mformat\u001b[0m\u001b[0;34m(\u001b[0m\u001b[0mn_id\u001b[0m\u001b[0;34m)\u001b[0m\u001b[0;34m\u001b[0m\u001b[0;34m\u001b[0m\u001b[0m\n\u001b[0;32m----> 3\u001b[0;31m \u001b[0mlist_images\u001b[0m\u001b[0;34m(\u001b[0m\u001b[0mDATASET_PATH_OUT\u001b[0m\u001b[0;34m,\u001b[0m \u001b[0mdiatoms\u001b[0m\u001b[0;34m=\u001b[0m\u001b[0;32mTrue\u001b[0m\u001b[0;34m,\u001b[0m \u001b[0mref\u001b[0m\u001b[0;34m=\u001b[0m\u001b[0mref\u001b[0m\u001b[0;34m)\u001b[0m\u001b[0;34m\u001b[0m\u001b[0;34m\u001b[0m\u001b[0m\n\u001b[0m",
      "\u001b[0;32m<ipython-input-2-8c4e6cc1c2b4>\u001b[0m in \u001b[0;36mlist_images\u001b[0;34m(data_path, diatoms, taxon_filter, ref)\u001b[0m\n\u001b[1;32m     14\u001b[0m         \u001b[0;32mfor\u001b[0m \u001b[0mroot\u001b[0m\u001b[0;34m,\u001b[0m \u001b[0mdirs\u001b[0m\u001b[0;34m,\u001b[0m \u001b[0mfiles\u001b[0m \u001b[0;32min\u001b[0m \u001b[0mos\u001b[0m\u001b[0;34m.\u001b[0m\u001b[0mwalk\u001b[0m\u001b[0;34m(\u001b[0m\u001b[0mpath\u001b[0m\u001b[0;34m)\u001b[0m\u001b[0;34m:\u001b[0m\u001b[0;34m\u001b[0m\u001b[0;34m\u001b[0m\u001b[0m\n\u001b[1;32m     15\u001b[0m             \u001b[0;32mfor\u001b[0m \u001b[0mfile\u001b[0m \u001b[0;32min\u001b[0m \u001b[0mfiles\u001b[0m\u001b[0;34m:\u001b[0m\u001b[0;34m\u001b[0m\u001b[0;34m\u001b[0m\u001b[0m\n\u001b[0;32m---> 16\u001b[0;31m                 \u001b[0;32mif\u001b[0m \u001b[0mfile\u001b[0m\u001b[0;34m.\u001b[0m\u001b[0msplit\u001b[0m\u001b[0;34m(\u001b[0m\u001b[0;34m\".\"\u001b[0m\u001b[0;34m)\u001b[0m\u001b[0;34m[\u001b[0m\u001b[0;36m1\u001b[0m\u001b[0;34m]\u001b[0m \u001b[0;32min\u001b[0m \u001b[0;34m[\u001b[0m\u001b[0;34m\"png\"\u001b[0m\u001b[0;34m,\u001b[0m \u001b[0;34m\"tif\"\u001b[0m\u001b[0;34m,\u001b[0m \u001b[0;34m\"tiff\"\u001b[0m\u001b[0;34m,\u001b[0m \u001b[0;34m\"TIF\"\u001b[0m\u001b[0;34m,\u001b[0m \u001b[0;34m\"PNG\"\u001b[0m\u001b[0;34m]\u001b[0m\u001b[0;34m:\u001b[0m\u001b[0;34m\u001b[0m\u001b[0;34m\u001b[0m\u001b[0m\n\u001b[0m\u001b[1;32m     17\u001b[0m                     \u001b[0mimages_path\u001b[0m\u001b[0;34m.\u001b[0m\u001b[0mappend\u001b[0m\u001b[0;34m(\u001b[0m\u001b[0;34m(\u001b[0m\u001b[0mroot\u001b[0m\u001b[0;34m,\u001b[0m \u001b[0mfile\u001b[0m\u001b[0;34m)\u001b[0m\u001b[0;34m)\u001b[0m\u001b[0;34m\u001b[0m\u001b[0;34m\u001b[0m\u001b[0m\n\u001b[1;32m     18\u001b[0m                     \u001b[0mi\u001b[0m\u001b[0;34m+=\u001b[0m\u001b[0;36m1\u001b[0m\u001b[0;34m\u001b[0m\u001b[0;34m\u001b[0m\u001b[0m\n",
      "\u001b[0;31mIndexError\u001b[0m: list index out of range"
     ]
    }
   ],
   "source": [
    "'''ref = cv2.imread(\"/home/souhila/nvme-storage/ATLAS/RA_V3/ABRY/RA_ABRY_0001.png\", cv2.IMREAD_GRAYSCALE)\n",
    "str_id = '{:04d}'.format(n_id)\n",
    "list_images(DATASET_PATH_OUT, diatoms=True, ref=ref)\n",
    "'''"
   ]
  },
  {
   "cell_type": "code",
   "execution_count": null,
   "metadata": {},
   "outputs": [],
   "source": [
    "'''ref = cv2.imread(\"/home/souhila/nvme-storage/ATLAS/RA_V3/ABRY/RA_ABRY_0001.png\", cv2.IMREAD_GRAYSCALE)\n",
    "display(Image.fromarray(ref))\n",
    "str_id = '{:04d}'.format(n_id)\n",
    "                   \n",
    "diatom_images_train, diatom_images_val = split_img_list(list_images(DATASET_PATH, diatoms=True, ref=ref), PERCENTAGE_VAL)\n",
    "debris_images_train, debris_images_val = split_img_list(list_images(DATASET_DUST_PATH, diatoms=False, ref=ref), PERCENTAGE_VAL)\n",
    "start=time.time()\n",
    "np.random.seed(20)\n",
    "final_image_Z = []\n",
    "final_image, annotations = main_generator([diatom_images_train, debris_images_train],\n",
    "                                          simple_angles = False, \n",
    "                                          size_px = 1000,\n",
    "                                          verbose=False, \n",
    "                                          number_overlapping=0, \n",
    "                                          overlapping=.5, \n",
    "                                          n_diatoms=[9,12],\n",
    "                                          scale_diatoms=[7,4.5],                                          \n",
    "                                          n_dust=[25,40],\n",
    "                                          scale_dust=[3,4])\n",
    "print(time.time()-start, \"s!\")\n",
    "display(Image.fromarray(final_image))\n",
    "cv2.imwrite(os.path.join(DATASET_PATH + str_id+\".png\"),final_image)\n",
    "xml_path = os.path.join(DATASET_PATH + 'annotations/' +str_id + \".xml\")\n",
    "annotations.save(xml_path)'''\n",
    "n_id += 1\n"
   ]
  }
 ],
 "metadata": {
  "kernelspec": {
   "display_name": "Python 3",
   "language": "python",
   "name": "python3"
  },
  "language_info": {
   "codemirror_mode": {
    "name": "ipython",
    "version": 3
   },
   "file_extension": ".py",
   "mimetype": "text/x-python",
   "name": "python",
   "nbconvert_exporter": "python",
   "pygments_lexer": "ipython3",
   "version": "3.6.9"
  }
 },
 "nbformat": 4,
 "nbformat_minor": 4
}
