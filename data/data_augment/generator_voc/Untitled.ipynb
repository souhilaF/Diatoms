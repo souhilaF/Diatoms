{
 "cells": [
  {
   "cell_type": "code",
   "execution_count": 1,
   "metadata": {},
   "outputs": [
    {
     "name": "stderr",
     "output_type": "stream",
     "text": [
      "ERROR:root:File `'variables.ipynb.py'` not found.\n",
      "ERROR:root:File `'utils.ipynb.py'` not found.\n",
      "ERROR:root:File `'image_utils.ipynb.py'` not found.\n",
      "ERROR:root:File `'global_variables.ipynb.py'` not found.\n"
     ]
    },
    {
     "data": {
      "image/png": "[encoded data removed]",
      "text/plain": [
       "<PIL.Image.Image image mode=L size=58x199 at 0x7FCA9D25FDA0>"
      ]
     },
     "metadata": {},
     "output_type": "display_data"
    },
    {
     "ename": "NameError",
     "evalue": "name 'split_img_list' is not defined",
     "output_type": "error",
     "traceback": [
      "\u001b[0;31m---------------------------------------------------------------------------\u001b[0m",
      "\u001b[0;31mNameError\u001b[0m                                 Traceback (most recent call last)",
      "\u001b[0;32m~/Diatoms/data/data_augment/utils_transform_dataset/generator.ipynb\u001b[0m in \u001b[0;36m<module>\u001b[0;34m\u001b[0m\n\u001b[1;32m      4\u001b[0m \u001b[0mdisplay\u001b[0m\u001b[0;34m(\u001b[0m\u001b[0mImage\u001b[0m\u001b[0;34m.\u001b[0m\u001b[0mfromarray\u001b[0m\u001b[0;34m(\u001b[0m\u001b[0mref\u001b[0m\u001b[0;34m)\u001b[0m\u001b[0;34m)\u001b[0m\u001b[0;34m\u001b[0m\u001b[0;34m\u001b[0m\u001b[0m\n\u001b[1;32m      5\u001b[0m \u001b[0;34m\u001b[0m\u001b[0m\n\u001b[0;32m----> 6\u001b[0;31m \u001b[0mdiatom_images_train\u001b[0m\u001b[0;34m,\u001b[0m \u001b[0mdiatom_images_val\u001b[0m \u001b[0;34m=\u001b[0m \u001b[0msplit_img_list\u001b[0m\u001b[0;34m(\u001b[0m\u001b[0mlist_images\u001b[0m\u001b[0;34m(\u001b[0m\u001b[0mDATASET_PATH\u001b[0m\u001b[0;34m,\u001b[0m \u001b[0mdiatoms\u001b[0m\u001b[0;34m=\u001b[0m\u001b[0;32mTrue\u001b[0m\u001b[0;34m,\u001b[0m \u001b[0mref\u001b[0m\u001b[0;34m=\u001b[0m\u001b[0mref\u001b[0m\u001b[0;34m)\u001b[0m\u001b[0;34m,\u001b[0m \u001b[0mPERCENTAGE_VAL\u001b[0m\u001b[0;34m)\u001b[0m\u001b[0;34m\u001b[0m\u001b[0;34m\u001b[0m\u001b[0m\n\u001b[0m\u001b[1;32m      7\u001b[0m \u001b[0mdebris_images_train\u001b[0m\u001b[0;34m,\u001b[0m \u001b[0mdebris_images_val\u001b[0m \u001b[0;34m=\u001b[0m \u001b[0msplit_img_list\u001b[0m\u001b[0;34m(\u001b[0m\u001b[0mlist_images\u001b[0m\u001b[0;34m(\u001b[0m\u001b[0mDATASET_DUST_PATH\u001b[0m\u001b[0;34m,\u001b[0m \u001b[0mdiatoms\u001b[0m\u001b[0;34m=\u001b[0m\u001b[0;32mFalse\u001b[0m\u001b[0;34m,\u001b[0m \u001b[0mref\u001b[0m\u001b[0;34m=\u001b[0m\u001b[0mref\u001b[0m\u001b[0;34m)\u001b[0m\u001b[0;34m,\u001b[0m \u001b[0mPERCENTAGE_VAL\u001b[0m\u001b[0;34m)\u001b[0m\u001b[0;34m\u001b[0m\u001b[0;34m\u001b[0m\u001b[0m\n\u001b[1;32m      8\u001b[0m \u001b[0mstart\u001b[0m\u001b[0;34m=\u001b[0m\u001b[0mtime\u001b[0m\u001b[0;34m.\u001b[0m\u001b[0mtime\u001b[0m\u001b[0;34m(\u001b[0m\u001b[0;34m)\u001b[0m\u001b[0;34m\u001b[0m\u001b[0;34m\u001b[0m\u001b[0m\n",
      "\u001b[0;31mNameError\u001b[0m: name 'split_img_list' is not defined"
     ]
    }
   ],
   "source": [
    "from pascal_voc_writer import Writer\n",
    "from lxml import etree\n",
    "from os import listdir\n",
    "from os.path import isfile, join\n",
    "import os\n",
    "import cv2\n",
    "\n",
    "%run ../utils_transform_dataset/generator.ipynb"
   ]
  },
  {
   "cell_type": "code",
   "execution_count": 2,
   "metadata": {},
   "outputs": [],
   "source": [
    "ROOT = '/home/souhila/nvme-storage/data/'\n",
    "#path destination\n",
    "DATASET_PATH_TRAINVAL = os.path.join(ROOT + 'artificial/train_artificial/')\n",
    "DATASET_PATH_TRAIN = os.path.join(DATASET_PATH_TRAINVAL + 'train/')\n",
    "DATASET_PATH_VAL = os.path.join(DATASET_PATH_TRAINVAL + 'val/')\n",
    "DATASET_PATH_TEST = os.path.join(ROOT + 'artificial/test_artificial/')\n",
    "\n",
    "#\n",
    "DATASET_PATH = [os.path.join(ROOT + 'origin/train_origin/train/')]\n",
    "DATASET_DUST_PATH = [os.path.join(ROOT + 'origin/DUST/')]\n",
    "PERCENTAGE_VAL = 0.1"
   ]
  },
  {
   "cell_type": "code",
   "execution_count": 5,
   "metadata": {},
   "outputs": [],
   "source": [
    "\n",
    "def voc_writer(DATASET_PATH, img, xmin, ymin, xmax, ymax):\n",
    "    # Writer(path, width, height)\n",
    "\n",
    "    writer = Writer(os.path.join(DATASET_PATH + img + '.png'), 1000, 1000)\n",
    "\n",
    "    # ::addObject(name, xmin, ymin, xmax, ymax)\n",
    "    for objet in objets:\n",
    "        writer.addObject('diatoms', xmin, ymin, xmax, ymax)\n",
    "\n",
    "    # ::save(path)\n",
    "\n",
    "    writer.save(os.path.join(DATASET_PATH + img + '.xml'))\n"
   ]
  },
  {
   "cell_type": "code",
   "execution_count": 6,
   "metadata": {},
   "outputs": [
    {
     "ename": "SyntaxError",
     "evalue": "positional argument follows keyword argument (<ipython-input-6-40ffc1ea98cf>, line 22)",
     "output_type": "error",
     "traceback": [
      "\u001b[0;36m  File \u001b[0;32m\"<ipython-input-6-40ffc1ea98cf>\"\u001b[0;36m, line \u001b[0;32m22\u001b[0m\n\u001b[0;31m    voc_writer(DATASET_PATH = DATASET_PATH_TRAIN, img, bbox=[xmin, ymin, xmax, ymax])\u001b[0m\n\u001b[0m                                                 ^\u001b[0m\n\u001b[0;31mSyntaxError\u001b[0m\u001b[0;31m:\u001b[0m positional argument follows keyword argument\n"
     ]
    }
   ],
   "source": [
    "import time\n",
    "from sklearn.model_selection import train_test_split\n",
    "ref = cv2.imread(\"/home/souhila/nvme-storage/ATLAS/RA_V3/ABRY/RA_ABRY_0001.png\", cv2.IMREAD_GRAYSCALE)\n",
    "display(Image.fromarray(ref))\n",
    "\n",
    "diatom_images_train, diatom_images_val = split_img_list(list_images(DATASET_PATH, diatoms=True, ref=ref), PERCENTAGE_VAL)\n",
    "debris_images_train, debris_images_val = split_img_list(list_images(DATASET_DUST_PATH, diatoms=False, ref=ref), PERCENTAGE_VAL)\n",
    "start=time.time()\n",
    "np.random.seed(20)\n",
    "final_image, annotations = main_generator([diatom_images_train, debris_images_train],\n",
    "                                          simple_angles = False, \n",
    "                                          size_px = 1000,\n",
    "                                          verbose=False, \n",
    "                                          number_overlapping=1, \n",
    "                                          overlapping=.5, \n",
    "                                          n_diatoms=[9,12],\n",
    "                                          scale_diatoms=[7,4.5],                                          \n",
    "                                          n_dust=[25,40],\n",
    "                                          scale_dust=[3,4])\n",
    "print(time.time()-start, \"s!\")\n",
    "display(Image.fromarray(final_image))                     \n",
    "voc_writer(DATASET_PATH_TRAIN, img, bbox=[xmin, ymin, xmax, ymax])\n",
    "\n"
   ]
  },
  {
   "cell_type": "code",
   "execution_count": null,
   "metadata": {},
   "outputs": [],
   "source": []
  }
 ],
 "metadata": {
  "kernelspec": {
   "display_name": "Python 3",
   "language": "python",
   "name": "python3"
  },
  "language_info": {
   "codemirror_mode": {
    "name": "ipython",
    "version": 3
   },
   "file_extension": ".py",
   "mimetype": "text/x-python",
   "name": "python",
   "nbconvert_exporter": "python",
   "pygments_lexer": "ipython3",
   "version": "3.6.9"
  }
 },
 "nbformat": 4,
 "nbformat_minor": 4
}
