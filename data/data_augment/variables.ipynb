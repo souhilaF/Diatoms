{
 "cells": [
  {
   "cell_type": "code",
   "execution_count": 7,
   "metadata": {},
   "outputs": [],
   "source": [
    "import os\n",
    "\n",
    "%run global_variables.ipynb\n"
   ]
  },
  {
   "cell_type": "code",
   "execution_count": 8,
   "metadata": {},
   "outputs": [],
   "source": [
    "configs = {\n",
    "    \"atlas\": {\n",
    "        \"dataset\": DATASETS[\"atlas\"],\n",
    "        \"filter\": \"br_meuse.csv\"\n",
    "    },\n",
    "    \n",
    "    \"aqualitas\": {\n",
    "        \"dataset\": DATASETS[\"aqualitas\"],\n",
    "        \"filter\": \"aqualitas80.csv\"  \n",
    "    },\n",
    "    \n",
    "    \"ADIAC_D38\": {\n",
    "        \"dataset\": DATASETS[\"ADIAC_D\"],\n",
    "        \"filter\": \"ADIAC_D38.csv\"\n",
    "    },\n",
    "    \"ADIAC_D48\": {\n",
    "        \"dataset\": DATASETS[\"ADIAC_D\"],\n",
    "        \"filter\": \"ADIAC_D48.csv\"\n",
    "    },\n",
    "    \"ADIAC_D55\": {\n",
    "        \"dataset\": DATASETS[\"ADIAC_D\"],\n",
    "        \"filter\": \"ADIAC_D55.csv\"\n",
    "    }\n",
    "}\n",
    "SCHEME = \"ADIAC_D38\"\n",
    "\n",
    "# Input dataset\n",
    "SELECTED_TAXONS = \"../../selected_taxons.txt\"\n",
    "FILTER_PATH = os.path.join(ROOT, \"datasets/filters/\", configs[SCHEME][\"filter\"])\n",
    "DATASET = configs[SCHEME][\"dataset\"]\n",
    "\n",
    "# Training\n",
    "TRAIN_ROOT = os.path.join(ROOT, \"training/thumbails/\", SCHEME+\"/\")\n",
    "## Output dataset\n",
    "DATASET_PATH = os.path.join(TRAIN_ROOT, \"dataset/\")\n",
    "TRAIN_DATASET_PATH = os.path.join(DATASET_PATH,\"train/\")\n",
    "TEST_DATASET_PATH = os.path.join(DATASET_PATH,\"test/\")\n",
    "## Tensorboard dir\n",
    "LOG_DIR = os.path.join(TRAIN_ROOT, \"tensorboard/\")\n",
    "## Folder to save the model\n",
    "SAVED_MODELS_ROOT = os.path.join(TRAIN_ROOT, \"saved_models/\")\n"
   ]
  },
  {
   "cell_type": "code",
   "execution_count": 14,
   "metadata": {},
   "outputs": [
    {
     "data": {
      "text/plain": [
       "'../../selected_taxons.txt'"
      ]
     },
     "execution_count": 14,
     "metadata": {},
     "output_type": "execute_result"
    }
   ],
   "source": [
    "SCHEME = \"ADIAC_D38\"\n",
    "SELECTED_TAXONS = \"../../selected_taxons.txt\"\n",
    "SELECTED_TAXONS"
   ]
  },
  {
   "cell_type": "code",
   "execution_count": 9,
   "metadata": {},
   "outputs": [],
   "source": [
    "configs = {\n",
    "    \"atlas\": {\n",
    "        \"dataset\": DATASETS[\"atlas\"],\n",
    "        \"filter\": \"br_meuse.csv\"\n",
    "    },\n",
    "    \n",
    "    \"aqualitas\": {\n",
    "        \"dataset\": DATASETS[\"aqualitas\"],\n",
    "        \"filter\": \"aqualitas80.csv\"  \n",
    "    },\n",
    "    \n",
    "    \"ADIAC_D38\": {\n",
    "        \"dataset\": DATASETS[\"ADIAC_D\"],\n",
    "        \"filter\": \"ADIAC_D38.csv\"\n",
    "    },\n",
    "    \"ADIAC_D48\": {\n",
    "        \"dataset\": DATASETS[\"ADIAC_D\"],\n",
    "        \"filter\": \"ADIAC_D48.csv\"\n",
    "    },\n",
    "    \"ADIAC_D55\": {\n",
    "        \"dataset\": DATASETS[\"ADIAC_D\"],\n",
    "        \"filter\": \"ADIAC_D55.csv\"\n",
    "    }\n",
    "}"
   ]
  },
  {
   "cell_type": "code",
   "execution_count": 10,
   "metadata": {},
   "outputs": [
    {
     "data": {
      "text/plain": [
       "{'atlas': {'dataset': ['/mnt/nvme-storage/souhila/Super_Diatomees/datasets/atlas/BRG/',\n",
       "   '/mnt/nvme-storage/souhila/Super_Diatomees/datasets/atlas/IDF/',\n",
       "   '/mnt/nvme-storage/souhila/Super_Diatomees/datasets/atlas/RA/'],\n",
       "  'filter': 'br_meuse.csv'},\n",
       " 'aqualitas': {'dataset': ['/mnt/nvme-storage/souhila/Super_Diatomees/datasets/Aqualitas/'],\n",
       "  'filter': 'aqualitas80.csv'},\n",
       " 'ADIAC_D38': {'dataset': ['/mnt/nvme-storage/souhila/Super_Diatomees/datasets/ADIAC/ADIAC_D/'],\n",
       "  'filter': 'ADIAC_D38.csv'},\n",
       " 'ADIAC_D48': {'dataset': ['/mnt/nvme-storage/souhila/Super_Diatomees/datasets/ADIAC/ADIAC_D/'],\n",
       "  'filter': 'ADIAC_D48.csv'},\n",
       " 'ADIAC_D55': {'dataset': ['/mnt/nvme-storage/souhila/Super_Diatomees/datasets/ADIAC/ADIAC_D/'],\n",
       "  'filter': 'ADIAC_D55.csv'}}"
      ]
     },
     "execution_count": 10,
     "metadata": {},
     "output_type": "execute_result"
    }
   ],
   "source": [
    "configs\n"
   ]
  },
  {
   "cell_type": "code",
   "execution_count": null,
   "metadata": {},
   "outputs": [],
   "source": []
  }
 ],
 "metadata": {
  "kernelspec": {
   "display_name": "Python 3",
   "language": "python",
   "name": "python3"
  },
  "language_info": {
   "codemirror_mode": {
    "name": "ipython",
    "version": 3
   },
   "file_extension": ".py",
   "mimetype": "text/x-python",
   "name": "python",
   "nbconvert_exporter": "python",
   "pygments_lexer": "ipython3",
   "version": "3.6.9"
  }
 },
 "nbformat": 4,
 "nbformat_minor": 4
}
