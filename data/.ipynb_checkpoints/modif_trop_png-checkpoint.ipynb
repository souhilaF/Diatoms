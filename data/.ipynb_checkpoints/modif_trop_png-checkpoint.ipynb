{
 "cells": [
  {
   "cell_type": "code",
   "execution_count": 1,
   "metadata": {},
   "outputs": [],
   "source": [
    "import cv2  \n",
    "import numpy as np \n",
    "from PIL import ImageFilter \n",
    "from PIL import Image\n",
    "from IPython.display import clear_output\n",
    "import matplotlib.pyplot as plt\n",
    "import random\n",
    "import imutils\n",
    "from os import listdir\n",
    "import os\n",
    "from random import choices"
   ]
  },
  {
   "cell_type": "code",
   "execution_count": 6,
   "metadata": {},
   "outputs": [],
   "source": [
    "DATASET_PATH='/home/souhila/nvme-storage/data/artificial/tmp_artifical'\n",
    "dirs = [f for f in listdir(DATASET_PATH) if os.path.isdir(os.path.join(DATASET_PATH, f))]\n"
   ]
  },
  {
   "cell_type": "code",
   "execution_count": 24,
   "metadata": {},
   "outputs": [],
   "source": [
    "for dir in dirs:\n",
    "\n",
    "    while '.ipynb_checkpoints' in dirs:\n",
    "        dirs.remove( '.ipynb_checkpoints')\n",
    "\n",
    "for dir in dirs:\n",
    "    files = [f for f in listdir(os.path.join(DATASET_PATH , dir)) if os.path.isfile(os.path.join(os.path.join(DATASET_PATH , dir) , f))]\n",
    "    for file in files:\n",
    "        img = os.path.join(DATASET_PATH , dir, file)\n",
    "        #print(img.split('.png_'))\n",
    "        #print(os.path.join(img.split('.png_')[0]+'_'+img.split('.png_')[1]))\n",
    "        #print(str(img))\n",
    "        os.rename(str(img),os.path.join(img.split('.png_')[0]+'_'+img.split('.png_')[1]))"
   ]
  },
  {
   "cell_type": "code",
   "execution_count": 55,
   "metadata": {},
   "outputs": [],
   "source": [
    "for dir in dirs:\n",
    "\n",
    "    while '.ipynb_checkpoints' in dirs:\n",
    "        dirs.remove( '.ipynb_checkpoints')\n",
    "\n",
    "for dir in dirs:\n",
    "    files = [f for f in listdir(os.path.join(DATASET_PATH , dir)) if os.path.isfile(os.path.join(os.path.join(DATASET_PATH , dir) , f))]\n",
    "    for file in files:\n",
    "        img = os.path.join(DATASET_PATH , dir, file)\n",
    "        #print(os.path.join(img.split(img.split('_')[-1])[0]+'1_'+img.split('_')[-1]))\n",
    "        #print(img.split('.png_'))\n",
    "        #print(os.path.join(img.split('.png_')[0]+'_'+img.split('.png_')[1]))\n",
    "        #print(os.path.join(img.split('.')+img.split('_')[-2])+'_1')\n",
    "        #print(str(img),os.path.join(img.split('.png_')[0]+'_'+img.split('.png_')[1]))\n",
    "        os.rename(str(img),os.path.join(img.split(img.split('_')[-1])[0]+'1_'+img.split('_')[-1]))"
   ]
  },
  {
   "cell_type": "code",
   "execution_count": null,
   "metadata": {},
   "outputs": [],
   "source": []
  }
 ],
 "metadata": {
  "kernelspec": {
   "display_name": "Python 3",
   "language": "python",
   "name": "python3"
  },
  "language_info": {
   "codemirror_mode": {
    "name": "ipython",
    "version": 3
   },
   "file_extension": ".py",
   "mimetype": "text/x-python",
   "name": "python",
   "nbconvert_exporter": "python",
   "pygments_lexer": "ipython3",
   "version": "3.6.9"
  }
 },
 "nbformat": 4,
 "nbformat_minor": 4
}
