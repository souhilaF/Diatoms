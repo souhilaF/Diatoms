{
 "cells": [
  {
   "cell_type": "code",
   "execution_count": null,
   "metadata": {},
   "outputs": [],
   "source": []
  },
  {
   "cell_type": "code",
   "execution_count": 2,
   "metadata": {},
   "outputs": [],
   "source": [
    "DATASET_PATH_RA = '/home/souhila/nvme-storage/ATLAS/RA_V3/'\n",
    "DATASET_PATH_IDF = '/home/souhila/nvme-storage/ATLAS/IDF_V3/IDF/'\n",
    "DATASET_PATH_BRG = '/home/souhila/nvme-storage/ATLAS/BRG_V1/BRG/'\n",
    "DATASET_PATH_DUST = '/home/souhila/nvme-storage/ATLAS/DUST/'\n",
    "\n",
    "\n",
    "DATASET_PATH_train_origin = '/home/souhila/nvme-storage/data/origin/train_origin/train/'\n",
    "DATASET_PATH_val_origin = '/home/souhila/nvme-storage/data/orgin/train_origin/val/'\n",
    "DATASET_PATH_test_origin = '/home/souhila/nvme-storage/data/test_origin/'\n",
    "\n",
    "DATASET_PATH_train_artific = '/home/souhila/nvme-storage/data/artifical/train/'\n",
    "DATASET_PATH_val_artific = '/home/souhila/nvme-storage/data/artifical/train_origin/val/'\n",
    "DATASET_PATH_test_artific = '/home/souhila/nvme-storage/data/test_artifical/'"
   ]
  },
  {
   "cell_type": "code",
   "execution_count": 1,
   "metadata": {},
   "outputs": [],
   "source": [
    "classeur = '/home/souhila/nvme-storage/Info_BR_M.xlsx'\n"
   ]
  },
  {
   "cell_type": "code",
   "execution_count": null,
   "metadata": {},
   "outputs": [],
   "source": []
  }
 ],
 "metadata": {
  "kernelspec": {
   "display_name": "Python 3",
   "language": "python",
   "name": "python3"
  },
  "language_info": {
   "codemirror_mode": {
    "name": "ipython",
    "version": 3
   },
   "file_extension": ".py",
   "mimetype": "text/x-python",
   "name": "python",
   "nbconvert_exporter": "python",
   "pygments_lexer": "ipython3",
   "version": "3.6.9"
  }
 },
 "nbformat": 4,
 "nbformat_minor": 4
}
